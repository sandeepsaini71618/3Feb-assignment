{
 "cells": [
  {
   "cell_type": "markdown",
   "id": "44b27e14-5cee-4fe0-aa1b-d6698df02f90",
   "metadata": {},
   "source": [
    "Q1 : Which keyword is used to create a function? Create a function to return a list of odd numbers in the\n",
    "range of 1 to 25."
   ]
  },
  {
   "cell_type": "markdown",
   "id": "bddf0aa6-7c09-4386-885c-cedc860f52c7",
   "metadata": {},
   "source": [
    "for a function \"def\" is used "
   ]
  },
  {
   "cell_type": "code",
   "execution_count": 1,
   "id": "0f2a2da8-371b-4982-8039-0ed7964f1eb0",
   "metadata": {},
   "outputs": [],
   "source": [
    "#function to return a list of odd numbers"
   ]
  },
  {
   "cell_type": "code",
   "execution_count": 6,
   "id": "9d70b56f-830a-4c8d-9c22-ecbed5f31d0d",
   "metadata": {},
   "outputs": [],
   "source": [
    "def odd_number():\n",
    "    a=int(input(\"please enter the where you want the odd no : \"))\n",
    "    l=[]\n",
    "    for i in range(a+1):\n",
    "        if i%2==1:\n",
    "            l.append(i)\n",
    "    return l\n",
    "    "
   ]
  },
  {
   "cell_type": "code",
   "execution_count": 7,
   "id": "73b10c14-5886-4cd3-b499-e801e8dfa46e",
   "metadata": {},
   "outputs": [
    {
     "name": "stdin",
     "output_type": "stream",
     "text": [
      "please enter the where you want the odd no :  25\n"
     ]
    },
    {
     "data": {
      "text/plain": [
       "[1, 3, 5, 7, 9, 11, 13, 15, 17, 19, 21, 23, 25]"
      ]
     },
     "execution_count": 7,
     "metadata": {},
     "output_type": "execute_result"
    }
   ],
   "source": [
    "odd_number()"
   ]
  },
  {
   "cell_type": "markdown",
   "id": "f5dbdbe3-5b92-4f1a-8170-d47eb67ca808",
   "metadata": {},
   "source": [
    "Q2: Why *args and **kwargs is used in some functions? Create a function each for *args and **kwargs\n",
    "to demonstrate their use."
   ]
  },
  {
   "cell_type": "markdown",
   "id": "7dc12efb-5ff7-476f-9046-a928616c312f",
   "metadata": {},
   "source": [
    "\"*args\" is used in function to pass non keyword argument & variable length argument without knowing how many arguments will be passed. the arguments are collected in tuple."
   ]
  },
  {
   "cell_type": "code",
   "execution_count": 12,
   "id": "c435a45b-b02d-4c18-8378-5bce5010e474",
   "metadata": {},
   "outputs": [],
   "source": [
    "def test(*args):\n",
    "    for i in args:\n",
    "        print(i)"
   ]
  },
  {
   "cell_type": "code",
   "execution_count": 14,
   "id": "f1d2c088-8940-4dea-b6d6-ffaa934589f5",
   "metadata": {},
   "outputs": [
    {
     "name": "stdout",
     "output_type": "stream",
     "text": [
      "ram\n",
      "shyam\n",
      "125\n",
      "6\n"
     ]
    }
   ],
   "source": [
    "test(\"ram\", \"shyam\",125 ,6)"
   ]
  },
  {
   "cell_type": "code",
   "execution_count": 15,
   "id": "a49c9041-d12d-4d33-ba23-dc662fa8ba8f",
   "metadata": {},
   "outputs": [],
   "source": [
    "def test2(a,*args):\n",
    "    print(\"my name is : \", a)\n",
    "    for i in args:\n",
    "        print(\"i m from : \",i)"
   ]
  },
  {
   "cell_type": "code",
   "execution_count": 16,
   "id": "665a98bf-8c1e-4da9-aeca-42ba83fdc5e4",
   "metadata": {},
   "outputs": [
    {
     "name": "stdout",
     "output_type": "stream",
     "text": [
      "my name is :  sandeep\n",
      "i m from :  sikar\n",
      "i m from :  rajasthan\n"
     ]
    }
   ],
   "source": [
    "test2(\"sandeep\",\"sikar\",\"rajasthan\")"
   ]
  },
  {
   "cell_type": "markdown",
   "id": "5d19e763-a57c-4da8-898f-1d51cb66e781",
   "metadata": {},
   "source": [
    "**kwargs is used in function to pass keyword arguments without knowing how many arguments will be passed. the arguments are collected in dictionary"
   ]
  },
  {
   "cell_type": "code",
   "execution_count": 20,
   "id": "02ef1922-9e7e-43bb-b1a2-d32042ce0af5",
   "metadata": {},
   "outputs": [],
   "source": [
    "def test3(**kwargs):\n",
    "    for key,value in kwargs.items():\n",
    "        print(\"%s=%s\" %(key,value))\n",
    "        "
   ]
  },
  {
   "cell_type": "code",
   "execution_count": 21,
   "id": "04e1bb5a-94b3-4d8c-a10a-3c33b92c2adb",
   "metadata": {},
   "outputs": [
    {
     "name": "stdout",
     "output_type": "stream",
     "text": [
      "name=sandeep\n",
      "place=sikar\n"
     ]
    }
   ],
   "source": [
    "test3(name=\"sandeep\", place=\"sikar\")"
   ]
  },
  {
   "cell_type": "markdown",
   "id": "ebdb05ab-a543-4503-b160-1fb4159b08fb",
   "metadata": {},
   "source": [
    "Q3 : What is an iterator in python? Name the method used to initialise the iterator object and the method\n",
    "used for iteration. Use these methods to print the first five elements of the given list [2, 4, 6, 8, 10, 12, 14,\n",
    "16, 18, 20]."
   ]
  },
  {
   "cell_type": "markdown",
   "id": "91bf948b-7028-4f22-a6df-70e21693212b",
   "metadata": {},
   "source": [
    "iterator are the objects in python that is used to iterate over iterable objects like lists, tuples, dicts, and sets. the iterator object is initialise by \"iter()\" and for iteration method \"next()\" is used"
   ]
  },
  {
   "cell_type": "code",
   "execution_count": 22,
   "id": "b4b6af69-694c-4060-a225-a5877f00e65c",
   "metadata": {},
   "outputs": [
    {
     "name": "stdout",
     "output_type": "stream",
     "text": [
      "2\n",
      "4\n",
      "6\n",
      "8\n",
      "10\n"
     ]
    }
   ],
   "source": [
    "a=[2,4,6,8,10,12,14,16,18,20]\n",
    "result=iter(a)\n",
    "print(next(result))\n",
    "print(next(result))\n",
    "print(next(result))\n",
    "print(next(result))\n",
    "print(next(result))"
   ]
  },
  {
   "cell_type": "markdown",
   "id": "e90d27f1-5833-4592-87f6-aeab5cd0053b",
   "metadata": {},
   "source": [
    "Q4 : What is a generator function in python? Why yield keyword is used? Give an example of a generator\n",
    "function."
   ]
  },
  {
   "cell_type": "markdown",
   "id": "23e97502-5bff-4949-ad40-927198e50737",
   "metadata": {},
   "source": [
    "Generator function : It is defined likes a normal function but whenever it needs to generate a value it does so with the yield keyword rather than return. if the def body contain yield , then function automatically became generator function"
   ]
  },
  {
   "cell_type": "code",
   "execution_count": 23,
   "id": "028c3c7c-4602-4ef2-bd39-3673ee37f1d0",
   "metadata": {},
   "outputs": [],
   "source": [
    "def generator():\n",
    "    yield \"ram\"\n",
    "    yield 2"
   ]
  },
  {
   "cell_type": "code",
   "execution_count": 24,
   "id": "afb80eef-aabe-4ee8-8e4e-3f349308c610",
   "metadata": {},
   "outputs": [
    {
     "name": "stdout",
     "output_type": "stream",
     "text": [
      "ram\n",
      "2\n"
     ]
    }
   ],
   "source": [
    "for i in generator():\n",
    "    print(i)"
   ]
  },
  {
   "cell_type": "markdown",
   "id": "158d51ed-3d5c-4318-83af-9354b87b5bd2",
   "metadata": {},
   "source": [
    "Q5 : Create a generator function for prime numbers less than 1000. Use the next() method to print the\n",
    "first 20 prime numbers."
   ]
  },
  {
   "cell_type": "code",
   "execution_count": 1,
   "id": "b1daa024-0248-44de-8b53-223e7e5eba66",
   "metadata": {},
   "outputs": [],
   "source": [
    "def primegenerator():\n",
    "    num=2\n",
    "    while num<1000:\n",
    "        for i in range(2,num):\n",
    "            if num%i==0:\n",
    "                break\n",
    "        else:\n",
    "            yield(num)\n",
    "        num+=1\n",
    "            \n",
    "        "
   ]
  },
  {
   "cell_type": "code",
   "execution_count": 3,
   "id": "666afe9e-bdb2-49cb-b248-002522266dfd",
   "metadata": {},
   "outputs": [
    {
     "name": "stdout",
     "output_type": "stream",
     "text": [
      "2\n",
      "3\n",
      "5\n",
      "7\n",
      "11\n",
      "13\n",
      "17\n",
      "19\n",
      "23\n",
      "29\n",
      "31\n",
      "37\n",
      "41\n",
      "43\n",
      "47\n",
      "53\n",
      "59\n",
      "61\n",
      "67\n",
      "71\n"
     ]
    }
   ],
   "source": [
    "prime=primegenerator()\n",
    "for i in range(20):\n",
    "    print(next(prime))"
   ]
  },
  {
   "cell_type": "markdown",
   "id": "57e06d72-3199-446d-ac99-405d727d2cad",
   "metadata": {},
   "source": [
    "Ans 6"
   ]
  },
  {
   "cell_type": "code",
   "execution_count": 5,
   "id": "3b3d0e7e-daf5-4c7e-80d8-699bc19a5d7f",
   "metadata": {},
   "outputs": [
    {
     "name": "stdin",
     "output_type": "stream",
     "text": [
      "please eneter the no :  10\n"
     ]
    },
    {
     "name": "stdout",
     "output_type": "stream",
     "text": [
      "0\n",
      "1\n",
      "1\n",
      "2\n",
      "3\n",
      "5\n",
      "8\n",
      "13\n",
      "21\n",
      "34\n"
     ]
    }
   ],
   "source": [
    "a,b=0,1\n",
    "number=int(input(\"please eneter the no : \"))\n",
    "count=0\n",
    "while count<number:\n",
    "    print(a)\n",
    "    c=a+b\n",
    "    a=b\n",
    "    b=c\n",
    "    count+=1"
   ]
  },
  {
   "cell_type": "markdown",
   "id": "a0c65b0d-c3df-46f6-9eaf-c404006b3d25",
   "metadata": {},
   "source": [
    "Ans 7"
   ]
  },
  {
   "cell_type": "code",
   "execution_count": 13,
   "id": "7ab0c325-d576-4876-bc7d-475b2d8af659",
   "metadata": {},
   "outputs": [
    {
     "name": "stdout",
     "output_type": "stream",
     "text": [
      "['p', 'w', 's', 'k', 'i', 'l', 'l', 's']\n"
     ]
    }
   ],
   "source": [
    "string=\"pwskills\"\n",
    "result =[char for char in string]\n",
    "print(result)"
   ]
  },
  {
   "cell_type": "markdown",
   "id": "6a7d88a3-2c0d-4efa-9ba8-d58f9da4b222",
   "metadata": {},
   "source": [
    "Q8: Write a python program to check whether a given number is Palindrome or not using a while loop."
   ]
  },
  {
   "cell_type": "code",
   "execution_count": 5,
   "id": "e8e4c744-d5d5-4023-8182-6b808ec777fa",
   "metadata": {},
   "outputs": [
    {
     "name": "stdin",
     "output_type": "stream",
     "text": [
      "Enter the number :  9869\n"
     ]
    },
    {
     "name": "stdout",
     "output_type": "stream",
     "text": [
      "9689\n",
      "number is not a palindrome\n"
     ]
    }
   ],
   "source": [
    "num=int(input(\"Enter the number : \"))\n",
    "temp=num\n",
    "reverse=0\n",
    "while num>0:\n",
    "# for last digit every time\n",
    "    digit=num%10\n",
    "    reverse=reverse*10+digit\n",
    "#update num after pull off last digit\n",
    "    num=num//10\n",
    "print (reverse)\n",
    "if reverse == temp:\n",
    "    print(\"number is palindrome\")\n",
    "else:\n",
    "    print(\"number is not a palindrome\")"
   ]
  },
  {
   "cell_type": "markdown",
   "id": "08b46bab-f8af-4058-9f15-f8646b37afe9",
   "metadata": {},
   "source": [
    "Q9 Write a code to print odd numbers from 1 to 100 using list comprehension."
   ]
  },
  {
   "cell_type": "code",
   "execution_count": 15,
   "id": "0c9f121c-f2ec-4b9d-aecf-f675222c2607",
   "metadata": {},
   "outputs": [
    {
     "name": "stdout",
     "output_type": "stream",
     "text": [
      "[1, 3, 5, 7, 9, 11, 13, 15, 17, 19, 21, 23, 25, 27, 29, 31, 33, 35, 37, 39, 41, 43, 45, 47, 49, 51, 53, 55, 57, 59, 61, 63, 65, 67, 69, 71, 73, 75, 77, 79, 81, 83, 85, 87, 89, 91, 93, 95, 97, 99]\n"
     ]
    }
   ],
   "source": [
    "odd_number=[char for char in range(1,101) if char%2==1]\n",
    "print(odd_number)"
   ]
  },
  {
   "cell_type": "code",
   "execution_count": null,
   "id": "39b633b8-9985-4664-a101-4881f4fd6937",
   "metadata": {},
   "outputs": [],
   "source": []
  }
 ],
 "metadata": {
  "kernelspec": {
   "display_name": "Python 3 (ipykernel)",
   "language": "python",
   "name": "python3"
  },
  "language_info": {
   "codemirror_mode": {
    "name": "ipython",
    "version": 3
   },
   "file_extension": ".py",
   "mimetype": "text/x-python",
   "name": "python",
   "nbconvert_exporter": "python",
   "pygments_lexer": "ipython3",
   "version": "3.10.8"
  }
 },
 "nbformat": 4,
 "nbformat_minor": 5
}
